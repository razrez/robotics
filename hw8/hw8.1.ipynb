{
 "cells": [
  {
   "cell_type": "code",
   "execution_count": 4,
   "id": "a98f06dd",
   "metadata": {},
   "outputs": [],
   "source": [
    "import cv2\n",
    "import numpy as np\n",
    "\n",
    "circles = np.zeros((4, 2), np.int32)\n",
    "counter = 0"
   ]
  },
  {
   "cell_type": "code",
   "execution_count": 5,
   "id": "46d92c5a",
   "metadata": {},
   "outputs": [],
   "source": [
    "def draw_circle(event, x, y, flags, params):\n",
    "    global counter\n",
    "    if event == cv2.EVENT_LBUTTONDOWN:\n",
    "        circles[counter] = x, y\n",
    "        counter += 1\n",
    "        cv2.circle(img_wrap, (x, y), 3, (255, 255, 0), -1)\n",
    "        print(circles)"
   ]
  },
  {
   "cell_type": "code",
   "execution_count": 6,
   "id": "1facc04f",
   "metadata": {},
   "outputs": [
    {
     "name": "stdout",
     "output_type": "stream",
     "text": [
      "[[307 126]\n",
      " [  0   0]\n",
      " [  0   0]\n",
      " [  0   0]]\n",
      "[[307 126]\n",
      " [482 191]\n",
      " [  0   0]\n",
      " [  0   0]]\n",
      "[[307 126]\n",
      " [482 191]\n",
      " [188 343]\n",
      " [  0   0]]\n",
      "[[307 126]\n",
      " [482 191]\n",
      " [188 343]\n",
      " [384 423]]\n"
     ]
    }
   ],
   "source": [
    "img_wrap = cv2.imread('cards.jpg')\n",
    "\n",
    "while True:\n",
    "\n",
    "    cv2.imshow('orig', img_wrap)\n",
    "    cv2.setMouseCallback('orig', draw_circle)\n",
    "\n",
    "    if counter == 4:\n",
    "        height, width = 350, 250\n",
    "        pts1 = np.float32([circles[0], circles[1], circles[2], circles[3]])\n",
    "        pts2 = np.float32([[0, 0], [width, 0], [0, height], [width, height]])\n",
    "        matrix = cv2.getPerspectiveTransform(pts1, pts2)\n",
    "        imgOut = cv2.warpPerspective(img_wrap, matrix, (width, height))\n",
    "        cv2.imshow(\"Out\", imgOut)\n",
    "\n",
    "    k = cv2.waitKey(20) & 0xFF  # stop on ESC\n",
    "    if k == 27:\n",
    "        break"
   ]
  },
  {
   "cell_type": "code",
   "execution_count": null,
   "id": "0bf05aa9",
   "metadata": {},
   "outputs": [],
   "source": []
  }
 ],
 "metadata": {
  "kernelspec": {
   "display_name": "Python 3 (ipykernel)",
   "language": "python",
   "name": "python3"
  },
  "language_info": {
   "codemirror_mode": {
    "name": "ipython",
    "version": 3
   },
   "file_extension": ".py",
   "mimetype": "text/x-python",
   "name": "python",
   "nbconvert_exporter": "python",
   "pygments_lexer": "ipython3",
   "version": "3.9.12"
  }
 },
 "nbformat": 4,
 "nbformat_minor": 5
}
