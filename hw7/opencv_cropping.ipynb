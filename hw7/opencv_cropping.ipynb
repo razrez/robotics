{
 "cells": [
  {
   "cell_type": "code",
   "execution_count": 2,
   "id": "2ea95917",
   "metadata": {},
   "outputs": [
    {
     "data": {
      "text/plain": [
       "32"
      ]
     },
     "execution_count": 2,
     "metadata": {},
     "output_type": "execute_result"
    }
   ],
   "source": [
    "import cv2\n",
    "\n",
    "pic = cv2.imread('spiral_galaxy.jpg')\n",
    "resizeScale = 0.25\n",
    "\n",
    "# resize and show\n",
    "img = cv2.resize(pic, None, fx=resizeScale, fy=resizeScale, interpolation=cv2.INTER_LINEAR)\n",
    "cv2.imshow('', img)\n",
    "cv2.waitKey()"
   ]
  },
  {
   "cell_type": "code",
   "execution_count": 3,
   "id": "f9600ca4",
   "metadata": {},
   "outputs": [
    {
     "name": "stdout",
     "output_type": "stream",
     "text": [
      "749 760 3\n",
      "1 248 1 252\n",
      "1 248 252 505\n",
      "1 248 505 758\n",
      "248 497 1 252\n",
      "248 497 252 505\n",
      "248 497 505 758\n",
      "497 746 1 252\n",
      "497 746 252 505\n",
      "497 746 505 758\n"
     ]
    }
   ],
   "source": [
    "# height / 3, width / 2, number of channels\n",
    "height, width, channelsN = img.shape\n",
    "print(height, width, channelsN)\n",
    "\n",
    "h0 = w0 = 1\n",
    "picCounter = 1\n",
    "h_interval = height // 3\n",
    "w_interval = width // 3\n",
    "\n",
    "# let's cropp\n",
    "for h in range(h_interval-1, height-1, h_interval):\n",
    "    w0 = 1\n",
    "    for w in range(w_interval-1, width-1, w_interval):\n",
    "        #print(h0,h,w0,w)\n",
    "        cropped_pic = img[h0:h, w0:w]\n",
    "        cv2.imwrite(f\"cropped_picture/Cropped Image{picCounter}.jpg\", cropped_pic)\n",
    "        w0 = w\n",
    "        picCounter += 1\n",
    "    h0 = h"
   ]
  },
  {
   "cell_type": "code",
   "execution_count": null,
   "id": "79a4047e",
   "metadata": {},
   "outputs": [],
   "source": []
  }
 ],
 "metadata": {
  "kernelspec": {
   "display_name": "Python 3 (ipykernel)",
   "language": "python",
   "name": "python3"
  },
  "language_info": {
   "codemirror_mode": {
    "name": "ipython",
    "version": 3
   },
   "file_extension": ".py",
   "mimetype": "text/x-python",
   "name": "python",
   "nbconvert_exporter": "python",
   "pygments_lexer": "ipython3",
   "version": "3.9.12"
  }
 },
 "nbformat": 4,
 "nbformat_minor": 5
}
