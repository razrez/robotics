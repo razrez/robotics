{
 "cells": [
  {
   "cell_type": "code",
   "execution_count": 11,
   "metadata": {},
   "outputs": [],
   "source": [
    "import cv2\n",
    "import numpy as np\n",
    "from random import random"
   ]
  },
  {
   "cell_type": "code",
   "execution_count": 12,
   "metadata": {},
   "outputs": [],
   "source": [
    "def add_salt_pepper_noise(img, probability):\n",
    "    output = np.zeros(img.shape, np.uint8)\n",
    "    h, w = img.shape[:2]\n",
    "    for i in range(h):\n",
    "        for j in range(w):\n",
    "            rnd = random()\n",
    "            prob = probability / 2.0\n",
    "            inverse_prob = 1 - prob\n",
    "            output[i, j] = 255 if rnd < prob else 0 if rnd > inverse_prob else img[i, j]\n",
    "    return output"
   ]
  },
  {
   "cell_type": "code",
   "execution_count": 13,
   "metadata": {},
   "outputs": [],
   "source": [
    "def median_blur(img, kernel_size):\n",
    "    return cv2.medianBlur(img, kernel_size)\n",
    "\n",
    "def gaussian_blur(img, kernel_size):\n",
    "    return cv2.GaussianBlur(img, (kernel_size, kernel_size), sigmaX=0, sigmaY=0)\n",
    "\n",
    "def bilateral_filter(img, kernel_size, sigma_color, sigma_space):\n",
    "    return cv2.bilateralFilter(img, kernel_size, sigma_color, sigma_space)"
   ]
  },
  {
   "cell_type": "code",
   "execution_count": 14,
   "metadata": {},
   "outputs": [],
   "source": [
    "img = cv2.imread('matrix.png')\n",
    "noised = add_salt_pepper_noise(img, 0.5)\n",
    "cv2.imshow('Original | Noised', np.hstack((img, noised)))\n",
    "cv2.imshow('Median | Gaussian | Bilateral',\n",
    "    np.concatenate((\n",
    "        median_blur(noised, 5),\n",
    "        gaussian_blur(noised, 5),\n",
    "        bilateral_filter(noised, 9, 75, 75)\n",
    "    ), axis=1))\n",
    "cv2.waitKey(0)\n",
    "cv2.destroyAllWindows()"
   ]
  },
  {
   "cell_type": "code",
   "execution_count": null,
   "metadata": {},
   "outputs": [],
   "source": []
  }
 ],
 "metadata": {
  "kernelspec": {
   "display_name": "Python 3 (ipykernel)",
   "language": "python",
   "name": "python3"
  },
  "language_info": {
   "codemirror_mode": {
    "name": "ipython",
    "version": 3
   },
   "file_extension": ".py",
   "mimetype": "text/x-python",
   "name": "python",
   "nbconvert_exporter": "python",
   "pygments_lexer": "ipython3",
   "version": "3.9.12"
  }
 },
 "nbformat": 4,
 "nbformat_minor": 1
}
